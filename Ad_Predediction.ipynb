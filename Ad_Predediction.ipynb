{
  "cells": [
    {
      "cell_type": "code",
      "execution_count": 1,
      "metadata": {
        "id": "FAoE5JHhv4LJ"
      },
      "outputs": [],
      "source": [
        "import pandas as pd\n",
        "from sklearn.preprocessing import MinMaxScaler\n",
        "from sklearn.preprocessing import LabelEncoder\n",
        "from sklearn.model_selection import train_test_split\n",
        "from sklearn.ensemble import RandomForestClassifier\n",
        "from sklearn.metrics import classification_report"
      ]
    },
    {
      "cell_type": "markdown",
      "metadata": {
        "id": "qQYL4yB1x26_"
      },
      "source": [
        "Loading dataset"
      ]
    },
    {
      "cell_type": "code",
      "execution_count": 2,
      "metadata": {
        "colab": {
          "base_uri": "https://localhost:8080/",
          "height": 443
        },
        "id": "SgHP02_4xpj2",
        "outputId": "97f913c9-fc67-493d-cd2c-f5ab2b839747"
      },
      "outputs": [
        {
          "data": {
            "text/html": [
              "<div>\n",
              "<style scoped>\n",
              "    .dataframe tbody tr th:only-of-type {\n",
              "        vertical-align: middle;\n",
              "    }\n",
              "\n",
              "    .dataframe tbody tr th {\n",
              "        vertical-align: top;\n",
              "    }\n",
              "\n",
              "    .dataframe thead th {\n",
              "        text-align: right;\n",
              "    }\n",
              "</style>\n",
              "<table border=\"1\" class=\"dataframe\">\n",
              "  <thead>\n",
              "    <tr style=\"text-align: right;\">\n",
              "      <th></th>\n",
              "      <th>gender</th>\n",
              "      <th>dress_type</th>\n",
              "      <th>age_range</th>\n",
              "      <th>ad_category</th>\n",
              "    </tr>\n",
              "  </thead>\n",
              "  <tbody>\n",
              "    <tr>\n",
              "      <th>0</th>\n",
              "      <td>male</td>\n",
              "      <td>modern</td>\n",
              "      <td>(15-20)</td>\n",
              "      <td>casual wear</td>\n",
              "    </tr>\n",
              "    <tr>\n",
              "      <th>1</th>\n",
              "      <td>female</td>\n",
              "      <td>modern</td>\n",
              "      <td>(38-43)</td>\n",
              "      <td>luxury</td>\n",
              "    </tr>\n",
              "    <tr>\n",
              "      <th>2</th>\n",
              "      <td>male</td>\n",
              "      <td>modern</td>\n",
              "      <td>(50+)</td>\n",
              "      <td>electronics</td>\n",
              "    </tr>\n",
              "    <tr>\n",
              "      <th>3</th>\n",
              "      <td>male</td>\n",
              "      <td>casual</td>\n",
              "      <td>(44-50)</td>\n",
              "      <td>sportswear</td>\n",
              "    </tr>\n",
              "    <tr>\n",
              "      <th>4</th>\n",
              "      <td>male</td>\n",
              "      <td>formal</td>\n",
              "      <td>(33-37)</td>\n",
              "      <td>formal wear</td>\n",
              "    </tr>\n",
              "    <tr>\n",
              "      <th>...</th>\n",
              "      <td>...</td>\n",
              "      <td>...</td>\n",
              "      <td>...</td>\n",
              "      <td>...</td>\n",
              "    </tr>\n",
              "    <tr>\n",
              "      <th>522</th>\n",
              "      <td>female</td>\n",
              "      <td>casual</td>\n",
              "      <td>(21-24)</td>\n",
              "      <td>casual wear</td>\n",
              "    </tr>\n",
              "    <tr>\n",
              "      <th>523</th>\n",
              "      <td>male</td>\n",
              "      <td>modern</td>\n",
              "      <td>(33-37)</td>\n",
              "      <td>electronics</td>\n",
              "    </tr>\n",
              "    <tr>\n",
              "      <th>524</th>\n",
              "      <td>female</td>\n",
              "      <td>casual</td>\n",
              "      <td>(15-20)</td>\n",
              "      <td>casual wear</td>\n",
              "    </tr>\n",
              "    <tr>\n",
              "      <th>525</th>\n",
              "      <td>male</td>\n",
              "      <td>sportswear</td>\n",
              "      <td>(38-43)</td>\n",
              "      <td>sportswear</td>\n",
              "    </tr>\n",
              "    <tr>\n",
              "      <th>526</th>\n",
              "      <td>male</td>\n",
              "      <td>sportswear</td>\n",
              "      <td>(21-24)</td>\n",
              "      <td>sportswear</td>\n",
              "    </tr>\n",
              "  </tbody>\n",
              "</table>\n",
              "<p>527 rows × 4 columns</p>\n",
              "</div>"
            ],
            "text/plain": [
              "     gender  dress_type age_range  ad_category\n",
              "0      male      modern   (15-20)  casual wear\n",
              "1    female      modern   (38-43)       luxury\n",
              "2      male      modern     (50+)  electronics\n",
              "3      male      casual   (44-50)   sportswear\n",
              "4      male      formal   (33-37)  formal wear\n",
              "..      ...         ...       ...          ...\n",
              "522  female      casual   (21-24)  casual wear\n",
              "523    male      modern   (33-37)  electronics\n",
              "524  female      casual   (15-20)  casual wear\n",
              "525    male  sportswear   (38-43)   sportswear\n",
              "526    male  sportswear   (21-24)   sportswear\n",
              "\n",
              "[527 rows x 4 columns]"
            ]
          },
          "execution_count": 2,
          "metadata": {},
          "output_type": "execute_result"
        }
      ],
      "source": [
        "df=pd.read_csv('new_data.csv')\n",
        "df"
      ]
    },
    {
      "cell_type": "code",
      "execution_count": 3,
      "metadata": {},
      "outputs": [
        {
          "name": "stdout",
          "output_type": "stream",
          "text": [
            "gender\n",
            "female    270\n",
            "male      257\n",
            "Name: count, dtype: int64\n",
            "dress_type\n",
            "casual        153\n",
            "formal        133\n",
            "modern        127\n",
            "sportswear    114\n",
            "Name: count, dtype: int64\n",
            "age_range\n",
            "(44-50)    87\n",
            "(50+)      79\n",
            "(38-43)    77\n",
            "(15-20)    75\n",
            "(25-32)    73\n",
            "(21-24)    71\n",
            "(33-37)    65\n",
            "Name: count, dtype: int64\n",
            "ad_category\n",
            "casual wear           243\n",
            "sportswear            126\n",
            "formal wear            43\n",
            "electronics            39\n",
            "luxury                 38\n",
            "travel and leisure     38\n",
            "Name: count, dtype: int64\n"
          ]
        }
      ],
      "source": [
        "for i in [\"gender\",\"dress_type\",\"age_range\",\"ad_category\"]:\n",
        "    print(df[i].value_counts())"
      ]
    },
    {
      "cell_type": "markdown",
      "metadata": {
        "id": "Gm5R6TIp2Snw"
      },
      "source": [
        "Checking for missing values"
      ]
    },
    {
      "cell_type": "code",
      "execution_count": 4,
      "metadata": {
        "colab": {
          "base_uri": "https://localhost:8080/"
        },
        "id": "Qx5XHSyezmYM",
        "outputId": "0c268eda-0adc-4747-cb39-43204dc22243"
      },
      "outputs": [
        {
          "data": {
            "text/plain": [
              "gender         0\n",
              "dress_type     0\n",
              "age_range      0\n",
              "ad_category    0\n",
              "dtype: int64"
            ]
          },
          "execution_count": 4,
          "metadata": {},
          "output_type": "execute_result"
        }
      ],
      "source": [
        "df.isna().sum()"
      ]
    },
    {
      "cell_type": "markdown",
      "metadata": {
        "id": "hN7xn7WG2Vc9"
      },
      "source": [
        "Checking the data type of each feature"
      ]
    },
    {
      "cell_type": "code",
      "execution_count": 5,
      "metadata": {
        "colab": {
          "base_uri": "https://localhost:8080/"
        },
        "id": "u2CwYPw7zoyc",
        "outputId": "ccc6e226-c97b-4ba4-ea81-d04523b24768"
      },
      "outputs": [
        {
          "data": {
            "text/plain": [
              "gender         object\n",
              "dress_type     object\n",
              "age_range      object\n",
              "ad_category    object\n",
              "dtype: object"
            ]
          },
          "execution_count": 5,
          "metadata": {},
          "output_type": "execute_result"
        }
      ],
      "source": [
        "df.dtypes"
      ]
    },
    {
      "cell_type": "markdown",
      "metadata": {
        "id": "Ldf4TFiH2a4m"
      },
      "source": [
        "Converting object type features into numeric values"
      ]
    },
    {
      "cell_type": "code",
      "execution_count": 6,
      "metadata": {
        "colab": {
          "base_uri": "https://localhost:8080/",
          "height": 423
        },
        "id": "mgDhrLr0zspU",
        "outputId": "edd317a1-77df-42ef-cff3-455846ba15e6"
      },
      "outputs": [],
      "source": [
        "from sklearn.preprocessing import LabelEncoder\n",
        "le=LabelEncoder()\n",
        "for i in [\"gender\",\"dress_type\",\"age_range\",\"ad_category\"]:\n",
        "    df[i]=le.fit_transform(df[i])"
      ]
    },
    {
      "cell_type": "code",
      "execution_count": 7,
      "metadata": {},
      "outputs": [
        {
          "name": "stdout",
          "output_type": "stream",
          "text": [
            "gender\n",
            "0    270\n",
            "1    257\n",
            "Name: count, dtype: int64\n",
            "dress_type\n",
            "0    153\n",
            "1    133\n",
            "2    127\n",
            "3    114\n",
            "Name: count, dtype: int64\n",
            "age_range\n",
            "5    87\n",
            "6    79\n",
            "4    77\n",
            "0    75\n",
            "2    73\n",
            "1    71\n",
            "3    65\n",
            "Name: count, dtype: int64\n",
            "ad_category\n",
            "0    243\n",
            "4    126\n",
            "2     43\n",
            "1     39\n",
            "3     38\n",
            "5     38\n",
            "Name: count, dtype: int64\n"
          ]
        }
      ],
      "source": [
        "for i in [\"gender\",\"dress_type\",\"age_range\",\"ad_category\"]:\n",
        "    print(df[i].value_counts())"
      ]
    },
    {
      "cell_type": "code",
      "execution_count": 8,
      "metadata": {
        "colab": {
          "base_uri": "https://localhost:8080/",
          "height": 602
        },
        "id": "JhTvLZKu_aSF",
        "outputId": "f011f04d-901a-4ced-af3a-2fa244e7497a"
      },
      "outputs": [
        {
          "data": {
            "text/html": [
              "<div>\n",
              "<style scoped>\n",
              "    .dataframe tbody tr th:only-of-type {\n",
              "        vertical-align: middle;\n",
              "    }\n",
              "\n",
              "    .dataframe tbody tr th {\n",
              "        vertical-align: top;\n",
              "    }\n",
              "\n",
              "    .dataframe thead th {\n",
              "        text-align: right;\n",
              "    }\n",
              "</style>\n",
              "<table border=\"1\" class=\"dataframe\">\n",
              "  <thead>\n",
              "    <tr style=\"text-align: right;\">\n",
              "      <th></th>\n",
              "      <th>gender</th>\n",
              "      <th>dress_type</th>\n",
              "      <th>age_range</th>\n",
              "      <th>ad_category</th>\n",
              "    </tr>\n",
              "  </thead>\n",
              "  <tbody>\n",
              "    <tr>\n",
              "      <th>gender</th>\n",
              "      <td>1.000000</td>\n",
              "      <td>0.042420</td>\n",
              "      <td>0.025465</td>\n",
              "      <td>0.350936</td>\n",
              "    </tr>\n",
              "    <tr>\n",
              "      <th>dress_type</th>\n",
              "      <td>0.042420</td>\n",
              "      <td>1.000000</td>\n",
              "      <td>0.050768</td>\n",
              "      <td>-0.011381</td>\n",
              "    </tr>\n",
              "    <tr>\n",
              "      <th>age_range</th>\n",
              "      <td>0.025465</td>\n",
              "      <td>0.050768</td>\n",
              "      <td>1.000000</td>\n",
              "      <td>0.297030</td>\n",
              "    </tr>\n",
              "    <tr>\n",
              "      <th>ad_category</th>\n",
              "      <td>0.350936</td>\n",
              "      <td>-0.011381</td>\n",
              "      <td>0.297030</td>\n",
              "      <td>1.000000</td>\n",
              "    </tr>\n",
              "  </tbody>\n",
              "</table>\n",
              "</div>"
            ],
            "text/plain": [
              "               gender  dress_type  age_range  ad_category\n",
              "gender       1.000000    0.042420   0.025465     0.350936\n",
              "dress_type   0.042420    1.000000   0.050768    -0.011381\n",
              "age_range    0.025465    0.050768   1.000000     0.297030\n",
              "ad_category  0.350936   -0.011381   0.297030     1.000000"
            ]
          },
          "execution_count": 8,
          "metadata": {},
          "output_type": "execute_result"
        }
      ],
      "source": [
        "df.corr()"
      ]
    },
    {
      "cell_type": "markdown",
      "metadata": {
        "id": "SY26WDRQ2n-h"
      },
      "source": [
        "Spliting features from labels"
      ]
    },
    {
      "cell_type": "code",
      "execution_count": 9,
      "metadata": {
        "id": "L54o6ge91pq_"
      },
      "outputs": [],
      "source": [
        "X=df.iloc[:,:-1]\n",
        "y=df.iloc[:,-1]"
      ]
    },
    {
      "cell_type": "markdown",
      "metadata": {
        "id": "0jA6fKoj2vcg"
      },
      "source": [
        "Scaling features"
      ]
    },
    {
      "cell_type": "code",
      "execution_count": 10,
      "metadata": {
        "id": "Mek1wl4J1xtr"
      },
      "outputs": [],
      "source": [
        "scaler=MinMaxScaler()\n",
        "X_scaled=scaler.fit_transform(X)\n"
      ]
    },
    {
      "cell_type": "markdown",
      "metadata": {
        "id": "waUwqYmQ2yFd"
      },
      "source": [
        "Splitting data for training and testing"
      ]
    },
    {
      "cell_type": "markdown",
      "metadata": {
        "id": "d1sLuV2h_JSH"
      },
      "source": [
        "Building model\n",
        "\n",
        "Evaluating model performance"
      ]
    },
    {
      "cell_type": "code",
      "execution_count": 11,
      "metadata": {
        "colab": {
          "base_uri": "https://localhost:8080/"
        },
        "id": "6vBx5r4q28Ob",
        "outputId": "93f01aeb-9b37-4e27-9545-83cc4b5c7c6e"
      },
      "outputs": [
        {
          "name": "stdout",
          "output_type": "stream",
          "text": [
            "RandomForestClassifier(random_state=1)\n",
            "              precision    recall  f1-score   support\n",
            "\n",
            "           0       1.00      1.00      1.00       243\n",
            "           1       1.00      1.00      1.00        39\n",
            "           2       1.00      1.00      1.00        43\n",
            "           3       1.00      1.00      1.00        38\n",
            "           4       1.00      1.00      1.00       126\n",
            "           5       1.00      1.00      1.00        38\n",
            "\n",
            "    accuracy                           1.00       527\n",
            "   macro avg       1.00      1.00      1.00       527\n",
            "weighted avg       1.00      1.00      1.00       527\n",
            "\n"
          ]
        }
      ],
      "source": [
        "\n",
        "rf=RandomForestClassifier(random_state=1)\n",
        "\n",
        "rf.fit(X_scaled,y)\n",
        "y_pred=rf.predict(X_scaled)\n",
        "print(rf)\n",
        "print(classification_report(y,y_pred))\n"
      ]
    },
    {
      "cell_type": "code",
      "execution_count": 12,
      "metadata": {},
      "outputs": [
        {
          "name": "stdout",
          "output_type": "stream",
          "text": [
            "Validation Accuracy with Random Forest: 1.00\n"
          ]
        }
      ],
      "source": [
        "from sklearn.ensemble import RandomForestClassifier\n",
        "from sklearn.metrics import accuracy_score\n",
        "\n",
        "# Train-test split\n",
        "X_train, X_val, y_train, y_val = train_test_split(X_scaled, y, test_size=0.2, random_state=42)\n",
        "\n",
        "# Train Random Forest\n",
        "rf_model = RandomForestClassifier(n_estimators=100, random_state=42)\n",
        "rf_model.fit(X_train, y_train)\n",
        "\n",
        "# Predict and evaluate\n",
        "y_pred = rf_model.predict(X_val)\n",
        "accuracy = accuracy_score(y_val, y_pred)\n",
        "print(f\"Validation Accuracy with Random Forest: {accuracy:.2f}\")\n"
      ]
    },
    {
      "cell_type": "code",
      "execution_count": 13,
      "metadata": {},
      "outputs": [
        {
          "name": "stdout",
          "output_type": "stream",
          "text": [
            "Best parameters: {'max_depth': 10, 'n_estimators': 50}\n",
            "Best accuracy: 1.00\n"
          ]
        }
      ],
      "source": [
        "from sklearn.model_selection import GridSearchCV\n",
        "from sklearn.ensemble import RandomForestClassifier\n",
        "\n",
        "param_grid = {\n",
        "    'n_estimators': [50, 100, 200],\n",
        "    'max_depth': [10, 20, 30]\n",
        "}\n",
        "\n",
        "grid_search = GridSearchCV(estimator=RandomForestClassifier(random_state=42),\n",
        "                           param_grid=param_grid,\n",
        "                           cv=3,\n",
        "                           scoring='accuracy')\n",
        "grid_search.fit(X_train, y_train)\n",
        "\n",
        "print(f\"Best parameters: {grid_search.best_params_}\")\n",
        "print(f\"Best accuracy: {grid_search.best_score_:.2f}\")"
      ]
    },
    {
      "cell_type": "code",
      "execution_count": 14,
      "metadata": {},
      "outputs": [
        {
          "name": "stderr",
          "output_type": "stream",
          "text": [
            "c:\\Users\\ADEESH\\AppData\\Local\\Programs\\Python\\Python311\\Lib\\site-packages\\sklearn\\base.py:439: UserWarning: X does not have valid feature names, but MinMaxScaler was fitted with feature names\n",
            "  warnings.warn(\n"
          ]
        },
        {
          "data": {
            "text/plain": [
              "array([3])"
            ]
          },
          "execution_count": 14,
          "metadata": {},
          "output_type": "execute_result"
        }
      ],
      "source": [
        "grid_search.predict(scaler.transform([[0,2,4]]))"
      ]
    },
    {
      "cell_type": "code",
      "execution_count": 15,
      "metadata": {},
      "outputs": [
        {
          "name": "stderr",
          "output_type": "stream",
          "text": [
            "c:\\Users\\ADEESH\\AppData\\Local\\Programs\\Python\\Python311\\Lib\\site-packages\\sklearn\\base.py:439: UserWarning: X does not have valid feature names, but MinMaxScaler was fitted with feature names\n",
            "  warnings.warn(\n"
          ]
        },
        {
          "data": {
            "text/plain": [
              "0"
            ]
          },
          "execution_count": 15,
          "metadata": {},
          "output_type": "execute_result"
        }
      ],
      "source": [
        "pred=grid_search.predict(scaler.transform([[0,0,2]]))\n",
        "pred[0]"
      ]
    },
    {
      "cell_type": "code",
      "execution_count": 16,
      "metadata": {},
      "outputs": [
        {
          "data": {
            "text/plain": [
              "['rf_scaler.pkl']"
            ]
          },
          "execution_count": 16,
          "metadata": {},
          "output_type": "execute_result"
        }
      ],
      "source": [
        "import joblib\n",
        "\n",
        "# Save the model\n",
        "joblib.dump(grid_search, 'random_forest_model.pkl')\n",
        "\n",
        "# Save the scaler\n",
        "joblib.dump(scaler, 'rf_scaler.pkl')"
      ]
    }
  ],
  "metadata": {
    "colab": {
      "provenance": []
    },
    "kernelspec": {
      "display_name": "Python 3",
      "name": "python3"
    },
    "language_info": {
      "codemirror_mode": {
        "name": "ipython",
        "version": 3
      },
      "file_extension": ".py",
      "mimetype": "text/x-python",
      "name": "python",
      "nbconvert_exporter": "python",
      "pygments_lexer": "ipython3",
      "version": "3.11.7"
    }
  },
  "nbformat": 4,
  "nbformat_minor": 0
}
